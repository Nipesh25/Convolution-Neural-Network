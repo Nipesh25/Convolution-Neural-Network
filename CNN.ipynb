{
 "cells": [
  {
   "cell_type": "markdown",
   "metadata": {},
   "source": [
    "# IMPORTING PACKAGES\n"
   ]
  },
  {
   "cell_type": "code",
   "execution_count": null,
   "metadata": {},
   "outputs": [],
   "source": [
    "import math\n",
    "import numpy as np\n",
    "import pandas as pd\n",
    "import tensorflow as tf\n",
    "import tensorflow.keras.layers as tfl\n",
    "from tensorflow.keras.layers import Input\n",
    "from tensorflow.python.framework import ops\n",
    "from cnn_utils import *\n",
    "from test_utils import summary, comparator\n",
    "np.random.seed(1)\n"
   ]
  },
  {
   "cell_type": "markdown",
   "metadata": {},
   "source": [
    "Load the Data and Split the Data into Train/Test Sets"
   ]
  },
  {
   "cell_type": "markdown",
   "metadata": {},
   "source": [
    "# Creating the Sequential Model to recognize smiles"
   ]
  },
  {
   "cell_type": "code",
   "execution_count": null,
   "metadata": {},
   "outputs": [],
   "source": [
    "def happyModel():\n",
    "    \"\"\"\n",
    "    Implements the forward propagation for the binary classification model:\n",
    "    ZEROPAD2D -> CONV2D -> BATCHNORM -> RELU -> MAXPOOL -> FLATTEN -> DENSE\n",
    "    \n",
    "    Returns:\n",
    "    model -- TF Keras model (object containing the information for the entire training process\n",
    "    \"\"\"\n",
    "    \n",
    "    model = tf.keras.Sequential([\n",
    "            tfl.ZeroPadding2D(padding=3, input_shape = (64,64,3)),  \n",
    "            \n",
    "            tfl.Conv2D(32, (7, 7), strides = (1, 1)), \n",
    "            \n",
    "            tfl.BatchNormalization(axis = 3),\n",
    "            \n",
    "            tfl.ReLU(),\n",
    "            \n",
    "            tfl.MaxPool2D(), \n",
    "            \n",
    "            tfl.Flatten(),\n",
    "            \n",
    "            tfl.Dense(1, activation=\"sigmoid\"),\n",
    "            \n",
    "        ])\n",
    "    \n",
    "    return model"
   ]
  },
  {
   "cell_type": "markdown",
   "metadata": {},
   "source": [
    "We can Check the parameters using .summary"
   ]
  },
  {
   "cell_type": "code",
   "execution_count": null,
   "metadata": {},
   "outputs": [],
   "source": [
    "happy_model.summary()\n"
   ]
  },
  {
   "cell_type": "markdown",
   "metadata": {},
   "source": [
    "Then, we can train our model and evaluate with the test data"
   ]
  },
  {
   "cell_type": "code",
   "execution_count": null,
   "metadata": {},
   "outputs": [],
   "source": [
    "happy_model.fit(X_train, Y_train, epochs=.., batch_size=..)\n"
   ]
  },
  {
   "cell_type": "code",
   "execution_count": null,
   "metadata": {},
   "outputs": [],
   "source": [
    "happy_model.evaluate(X_test, Y_test)"
   ]
  },
  {
   "cell_type": "markdown",
   "metadata": {},
   "source": [
    "# The Functional API to recognizes SIGN language"
   ]
  },
  {
   "cell_type": "code",
   "execution_count": null,
   "metadata": {},
   "outputs": [],
   "source": [
    "def convolutional_model(input_shape):\n",
    "    \"\"\"\n",
    "    \n",
    "    Arguments:\n",
    "    input_img -- input dataset, of shape (input_shape)\n",
    "\n",
    "    Returns:\n",
    "    model -- TF Keras model (object containing the information for the entire training process) \n",
    "    \"\"\"\n",
    "         \n",
    "    input_img= Input(shape=input_shape)\n",
    "    \n",
    "    \n",
    "    CONV2D = tf.keras.layers.Conv2D(filters=8,  kernel_size=(4, 4), strides=(1, 1),padding = 'same')\n",
    "    Z1=  CONV2D(input_img)\n",
    "   \n",
    "    RELU = tf.keras.layers.ReLU()\n",
    "    A1=RELU(Z1)\n",
    "\n",
    "    MAXPOOL= tf.keras.layers.MaxPool2D(pool_size=(8, 8), strides=(8, 8),padding = 'same')\n",
    "    P1=MAXPOOL(A1)\n",
    " \n",
    "    CONV2D = tf.keras.layers.Conv2D(filters=16,  kernel_size=(2, 2), strides=(1, 1),padding = 'same')\n",
    "    Z2=CONV2D(P1)\n",
    " \n",
    "    RELU = tf.keras.layers.ReLU()\n",
    "    A2= RELU(Z2)\n",
    "  \n",
    "    MAXPOOL= tf.keras.layers.MaxPool2D(pool_size=(4, 4), strides=(4, 4),padding = 'same')\n",
    "    P2=MAXPOOL(A2)\n",
    "   \n",
    "    FLATTEN= tf.keras.layers.Flatten()\n",
    "    F=FLATTEN(P2)\n",
    "    \n",
    "    DENSE = tf.keras.layers.Dense(6, activation=\"softmax\")\n",
    "    outputs=DENSE(F)\n",
    "    \n",
    "    \n",
    "    model = tf.keras.Model(inputs=input_img, outputs=outputs)\n",
    "    return model"
   ]
  },
  {
   "cell_type": "markdown",
   "metadata": {},
   "source": [
    "Similarly we can run model and train it."
   ]
  }
 ],
 "metadata": {
  "kernelspec": {
   "display_name": "Python 3",
   "language": "python",
   "name": "python3"
  },
  "language_info": {
   "codemirror_mode": {
    "name": "ipython",
    "version": 3
   },
   "file_extension": ".py",
   "mimetype": "text/x-python",
   "name": "python",
   "nbconvert_exporter": "python",
   "pygments_lexer": "ipython3",
   "version": "3.7.6"
  }
 },
 "nbformat": 4,
 "nbformat_minor": 4
}
